{
 "cells": [
  {
   "cell_type": "code",
   "execution_count": 21,
   "metadata": {
    "collapsed": true
   },
   "outputs": [],
   "source": [
    "from math import log2\n",
    "import random\n",
    "import numpy as np\n",
    "import pandas as pd\n",
    "import matplotlib.pyplot as plt"
   ]
  },
  {
   "cell_type": "code",
   "execution_count": 22,
   "outputs": [],
   "source": [
    "def load_dataset(filename):\n",
    "    \"\"\"\n",
    "    load dataset from txt file\n",
    "    \"\"\"\n",
    "    dataset = pd.read_csv(filename, sep='\\t', header=None) # split with '\\t'\n",
    "    dataset = np.mat(dataset)\n",
    "    return dataset"
   ],
   "metadata": {
    "collapsed": false
   }
  },
  {
   "cell_type": "code",
   "execution_count": 23,
   "outputs": [],
   "source": [
    "def Euclidean_distance(vector_A, vector_B):\n",
    "    \"\"\"\n",
    "    caculate the euclidean distance between vector A and vector B\n",
    "    \"\"\"\n",
    "    return np.sqrt(np.sum(np.power(vector_A - vector_B, 2)))"
   ],
   "metadata": {
    "collapsed": false
   }
  },
  {
   "cell_type": "code",
   "execution_count": 24,
   "outputs": [],
   "source": [
    "def random_centroid(dataset, k):\n",
    "    \"\"\"\n",
    "    get k centriods by randomly selecting from dataset\n",
    "    \"\"\"\n",
    "    num_samples, dim = dataset.shape # get the shape of dataset, num_samples for the number of samples in dataset, dim for the number of features(dimensions)\n",
    "    centroids = np.zeros((k,dim)) # create k centroids with corresponding number of dimensions\n",
    "    for i in range(k): # loop for every dimension\n",
    "        index = int(random.uniform(0, num_samples))\n",
    "        centroids[i,:] = dataset[index,:]\n",
    "    return centroids"
   ],
   "metadata": {
    "collapsed": false
   }
  },
  {
   "cell_type": "code",
   "execution_count": 25,
   "outputs": [],
   "source": [
    "def farthest_centroid(dataset, k):\n",
    "    num_samples, dim = dataset.shape # get the shape of dataset, num_samples for the number of samples in dataset, dim for the number of features(dimensions)\n",
    "    centroids = np.zeros((k,dim))\n",
    "    centroids[0,] = dataset[int(random.uniform(0, num_samples)), :]\n",
    "    for centroid in range(k-1):\n",
    "        dists = []\n",
    "        for i in range(num_samples):\n",
    "            min_dist = float('inf')\n",
    "            for j in range(len(centroids)):\n",
    "                tmp_dist = Euclidean_distance(dataset[i,:], centroids[j, :])\n",
    "                min_dist = min(min_dist, tmp_dist)\n",
    "            dists.append(min_dist)\n",
    "        max_dist = np.argmax(np.array(dists))\n",
    "        next_centroid = dataset[max_dist,:]\n",
    "        centroids[centroid+1, :] = next_centroid\n",
    "    return centroids"
   ],
   "metadata": {
    "collapsed": false
   }
  },
  {
   "cell_type": "code",
   "execution_count": 26,
   "outputs": [],
   "source": [
    "def k_means(dataset, k, distance_type = Euclidean_distance, create_centroid = random_centroid):\n",
    "    \"\"\"\n",
    "    general k-means method for clustering\n",
    "    \"\"\"\n",
    "    num_samples = dataset.shape[0] # number of samples\n",
    "    cluster_assment = np.mat(np.zeros((num_samples, 2))) # record the cluster number and min distances of every sample in dataset\n",
    "\n",
    "    # step 1: initiate the centroids\n",
    "    centroids = create_centroid(dataset, k)\n",
    "    cluster_changed = True\n",
    "    # step 2: loop for every sample in dataset\n",
    "    while cluster_changed:\n",
    "        cluster_changed = False\n",
    "        # step 3: find the closest centroid\n",
    "        for i in range(num_samples):\n",
    "            min_distance = float('inf')\n",
    "            min_index = -1\n",
    "            for j in range(k):\n",
    "                distance = distance_type(centroids[j,:], dataset[i,])\n",
    "                if distance < min_distance:\n",
    "                    min_distance = distance\n",
    "                    min_index = j\n",
    "            # step 4: check if the cluster is needed to change\n",
    "            if cluster_assment[i,0] != min_index:\n",
    "                cluster_changed = True\n",
    "            cluster_assment[i, :] = min_index, min_distance**2\n",
    "        # step 5 update centroids\n",
    "        for centroid in range(k):\n",
    "            points_in_cluster = dataset[np.nonzero(cluster_assment[:, 0].A == centroid)[0]]\n",
    "            centroids[centroid,:] = np.mean(points_in_cluster, axis=0)\n",
    "            # centroids[centroid] = find_medoids(points_in_cluster)\n",
    "    return centroids, cluster_assment"
   ],
   "metadata": {
    "collapsed": false
   }
  },
  {
   "cell_type": "code",
   "execution_count": 27,
   "outputs": [],
   "source": [
    "def k_means_plusplust(dataset, k, distance_type = Euclidean_distance, create_centroid = farthest_centroid):\n",
    "    \"\"\"\n",
    "    k-means++ for clustering\n",
    "    \"\"\"\n",
    "    num_samples = dataset.shape[0] # number of samples\n",
    "    cluster_assment = np.mat(np.zeros((num_samples, 2))) # record the cluster number and min distances of every sample in dataset\n",
    "\n",
    "    # step 1: initiate the centroids\n",
    "    centroids = create_centroid(dataset, k)\n",
    "    cluster_changed = True\n",
    "    # step 2: loop for every sample in dataset\n",
    "    while cluster_changed:\n",
    "        cluster_changed = False\n",
    "        # step 3: find the closest centroid\n",
    "        for i in range(num_samples):\n",
    "            min_distance = float('inf')\n",
    "            min_index = -1\n",
    "            for j in range(k):\n",
    "                distance = distance_type(centroids[j,:], dataset[i,])\n",
    "                if distance < min_distance:\n",
    "                    min_distance = distance\n",
    "                    min_index = j\n",
    "            # step 4: check if the cluster is needed to change\n",
    "            if cluster_assment[i,0] != min_index:\n",
    "                cluster_changed = True\n",
    "            cluster_assment[i, :] = min_index, min_distance**2\n",
    "        # step 5 update centroids\n",
    "        for centroid in range(k):\n",
    "            points_in_cluster = dataset[np.nonzero(cluster_assment[:, 0].A == centroid)[0]]\n",
    "            centroids[centroid,:] = np.mean(points_in_cluster, axis=0)\n",
    "    return centroids, cluster_assment"
   ],
   "metadata": {
    "collapsed": false
   }
  },
  {
   "cell_type": "code",
   "execution_count": 28,
   "outputs": [],
   "source": [
    "def find_medoids(points_in_cluster):\n",
    "    \"\"\"\n",
    "    used in k-medoids\n",
    "    \"\"\"\n",
    "    min_distance = float('inf')\n",
    "    min_index = 0\n",
    "    for i in range(points_in_cluster.shape[0]):\n",
    "        current_dist = 0\n",
    "        for j in range(points_in_cluster.shape[0]):\n",
    "            current_dist += Euclidean_distance(points_in_cluster[i,:], points_in_cluster[j,:])\n",
    "        if current_dist < min_distance:\n",
    "            min_index = i\n",
    "            min_distance = current_dist\n",
    "    return points_in_cluster[min_index]"
   ],
   "metadata": {
    "collapsed": false
   }
  },
  {
   "cell_type": "code",
   "execution_count": 29,
   "outputs": [],
   "source": [
    "def k_medoids(dataset, k, distance_type = Euclidean_distance, create_centroid = random_centroid):\n",
    "    \"\"\"\n",
    "    k-medoids for clustering\n",
    "    \"\"\"\n",
    "    num_samples = dataset.shape[0] # number of samples\n",
    "    cluster_assment = np.mat(np.zeros((num_samples, 2))) # record the cluster number and min distances of every sample in dataset\n",
    "\n",
    "    # step 1: initiate the centroids\n",
    "    centroids = create_centroid(dataset, k)\n",
    "    cluster_changed = True\n",
    "    # step 2: loop for every sample in dataset\n",
    "    while cluster_changed:\n",
    "        cluster_changed = False\n",
    "        # step 3: find the closest centroid\n",
    "        for i in range(num_samples):\n",
    "            min_distance = float('inf')\n",
    "            min_index = -1\n",
    "            for j in range(k):\n",
    "                distance = distance_type(centroids[j,:], dataset[i,])\n",
    "                if distance < min_distance:\n",
    "                    min_distance = distance\n",
    "                    min_index = j\n",
    "            # step 4: check if the cluster is needed to change\n",
    "            if cluster_assment[i,0] != min_index:\n",
    "                cluster_changed = True\n",
    "            cluster_assment[i, :] = min_index, min_distance**2\n",
    "        # step 5 update centroids\n",
    "        for centroid in range(k):\n",
    "            points_in_cluster = dataset[np.nonzero(cluster_assment[:, 0].A == centroid)[0]]\n",
    "            centroids[centroid] = find_medoids(points_in_cluster)\n",
    "    return centroids, cluster_assment"
   ],
   "metadata": {
    "collapsed": false
   }
  },
  {
   "cell_type": "code",
   "execution_count": 30,
   "outputs": [],
   "source": [
    "def binarize_k_means(dataset, k, distance_type= Euclidean_distance):\n",
    "    num_samples = dataset.shape[0] # number of samples\n",
    "    cluster_assment = np.mat(np.zeros((num_samples, 2))) # record the cluster number and min distances of every sample in dataset\n",
    "    centroid0 = np.mean(dataset, axis=0).tolist()[0] # recogize the whole dataset as one cluster, calculate its centroid\n",
    "    centroid_list = [centroid0] # list recording every centroid\n",
    "    for i in range(num_samples):\n",
    "        cluster_assment[i,1] = distance_type(np.mat(centroid0), dataset[i,:])**2\n",
    "    while(len(centroid_list)<k): # loop til existing k clusters\n",
    "        lowerSSE = float('inf') # use SSE as the metric to choose the best partition point\n",
    "        for centroid in range(len(centroid_list)):\n",
    "            points_in_cluster = dataset[np.nonzero(cluster_assment[:, 0].A == centroid)[0], :] # get the points in current cluster\n",
    "            centroid_mat, split_cluster_ass = k_means(points_in_cluster, 2, distance_type)\n",
    "            SplitSSE = np.sum(split_cluster_ass[:, 1])\n",
    "            NoSplitSSE = np.sum(cluster_assment[np.nonzero(cluster_assment[:,0].A != centroid)[0], 1])\n",
    "            if (SplitSSE+NoSplitSSE) < lowerSSE:\n",
    "                best_centroid_to_split = centroid\n",
    "                best_new_centroids = centroid_mat\n",
    "                best_clust_ass = split_cluster_ass.copy()\n",
    "                lowerSSE = SplitSSE + NoSplitSSE\n",
    "        best_clust_ass[np.nonzero(best_clust_ass[:,0].A == 1)[0], 0] = len(centroid_list)\n",
    "        best_clust_ass[np.nonzero(best_clust_ass[:,0].A == 0)[0], 0] = best_centroid_to_split\n",
    "        centroid_list[best_centroid_to_split] = best_new_centroids[0, :]\n",
    "        centroid_list.append(best_new_centroids[1,:])\n",
    "        cluster_assment[np.nonzero(cluster_assment[:,0].A == best_centroid_to_split)[0], :] = best_clust_ass\n",
    "    return centroid_list, cluster_assment"
   ],
   "metadata": {
    "collapsed": false
   }
  },
  {
   "cell_type": "code",
   "execution_count": 31,
   "outputs": [],
   "source": [
    "def plot_cluster(dataset, centroids, cluster_assment):\n",
    "    \"\"\"\n",
    "    visualize clustering consequence\n",
    "    \"\"\"\n",
    "    num_samples, dim = dataset.shape\n",
    "    centroids = np.array(centroids)\n",
    "    k = centroids.shape[0]\n",
    "    color = ['red', 'g', 'navy', 'darkorange', 'yellow', 'royalblue']\n",
    "    for i in range(num_samples):\n",
    "        color_index = int(cluster_assment[i, 0])\n",
    "        plt.scatter(dataset[i,0], dataset[i,1], c=color[color_index], alpha=.5)\n",
    "\n",
    "    for i in range(k):\n",
    "        plt.scatter(centroids[i,0], centroids[i,1], s=100, c='k', marker='+')\n",
    "    plt.title('DataSet')\n",
    "    plt.xlabel('X')\n",
    "    plt.show()"
   ],
   "metadata": {
    "collapsed": false
   }
  },
  {
   "cell_type": "code",
   "execution_count": 32,
   "outputs": [],
   "source": [
    "def calinski_harabasz(dataset, cluster_assment, centroids):\n",
    "    \"\"\"\n",
    "    calculate CH metric to estimate quality of clustering consequence\n",
    "    \"\"\"\n",
    "    k = len(centroids)\n",
    "    traceB = 0.\n",
    "    centroid0 = np.mean(dataset, axis=0).tolist()[0]\n",
    "    for j in range(k):\n",
    "        points_in_cluster = dataset[np.nonzero(cluster_assment[:, 0].A == j)[0]]\n",
    "        traceB += len(points_in_cluster)*(Euclidean_distance(centroids[j], centroid0)**2)\n",
    "    traceW = 0.\n",
    "    for j in range(k):\n",
    "        points_in_cluster = dataset[np.nonzero(cluster_assment[:, 0].A == j)[0]]\n",
    "        for point in points_in_cluster:\n",
    "            traceW += Euclidean_distance(point, centroids[j])**2\n",
    "    CH = (traceB / (k-1)) / (traceW / (len(dataset) - k))\n",
    "    return CH"
   ],
   "metadata": {
    "collapsed": false
   }
  },
  {
   "cell_type": "code",
   "execution_count": 33,
   "outputs": [],
   "source": [
    "def caculate_cluster_accuarcy(list_dicts):\n",
    "    sum_of_Ni = 0\n",
    "    total_num = 0\n",
    "    for i in range(len(list_dicts)):\n",
    "        max_num, label = max(zip(list_dicts[i].values(), list_dicts[i].keys()))\n",
    "        sum_of_Ni += max_num\n",
    "        total_num += sum(list_dicts[i].values())\n",
    "    accuracy = sum_of_Ni / total_num\n",
    "    return accuracy"
   ],
   "metadata": {
    "collapsed": false
   }
  },
  {
   "cell_type": "code",
   "execution_count": 34,
   "outputs": [],
   "source": [
    "def calculate_cluster_entropy(list_dicts):\n",
    "    total_entropy = 0.\n",
    "    total_num = 0\n",
    "    for i in range(len(list_dicts)):\n",
    "        entropy = 0.\n",
    "        num_Ci = sum(list_dicts[i].values())\n",
    "        total_num += num_Ci\n",
    "        for key in list_dicts[i].keys():\n",
    "            entropy -= (list_dicts[i][key] / num_Ci) * log2(list_dicts[i][key] / num_Ci)\n",
    "        total_entropy += num_Ci*entropy\n",
    "    total_entropy /= total_num\n",
    "    return total_entropy"
   ],
   "metadata": {
    "collapsed": false
   }
  },
  {
   "cell_type": "markdown",
   "source": [
    "# testData"
   ],
   "metadata": {
    "collapsed": false
   }
  },
  {
   "cell_type": "code",
   "execution_count": 35,
   "outputs": [
    {
     "name": "stderr",
     "output_type": "stream",
     "text": [
      "E:\\Coding\\Python\\lib\\site-packages\\numpy\\matrixlib\\defmatrix.py:445: RuntimeWarning: Mean of empty slice.\n",
      "  return N.ndarray.mean(self, axis, dtype, out, keepdims=True)._collapse(axis)\n",
      "E:\\Coding\\Python\\lib\\site-packages\\numpy\\core\\_methods.py:182: RuntimeWarning: invalid value encountered in divide\n",
      "  ret = um.true_divide(\n"
     ]
    },
    {
     "data": {
      "text/plain": "(1.5, 8.5)"
     },
     "execution_count": 35,
     "metadata": {},
     "output_type": "execute_result"
    },
    {
     "data": {
      "text/plain": "<Figure size 432x288 with 1 Axes>",
      "image/png": "[encoded data removed]"
     },
     "metadata": {
      "needs_background": "light"
     },
     "output_type": "display_data"
    }
   ],
   "source": [
    "#elbow method\n",
    "dataset = load_dataset('testSet.txt')\n",
    "SSE_list = []\n",
    "for k in range(2,9):\n",
    "    min_SSE = float('inf')\n",
    "    for i in range(10):\n",
    "        centroids, cluster_assment = k_means(dataset, k, create_centroid=random_centroid)\n",
    "        current_SSE = np.sum(cluster_assment[:,1])\n",
    "        if current_SSE < min_SSE:\n",
    "            min_SSE = current_SSE\n",
    "    SSE_list.append(min_SSE)\n",
    "plt.plot(range(2,9),SSE_list)\n",
    "plt.xlabel('k')\n",
    "plt.ylabel('SSE')\n",
    "plt.xlim(1.5,8.5)"
   ],
   "metadata": {
    "collapsed": false
   }
  },
  {
   "cell_type": "code",
   "execution_count": 36,
   "outputs": [
    {
     "data": {
      "text/plain": "(1.5, 8.5)"
     },
     "execution_count": 16,
     "metadata": {},
     "output_type": "execute_result"
    },
    {
     "data": {
      "text/plain": "<Figure size 432x288 with 1 Axes>",
      "image/png": "[encoded data removed]"
     },
     "metadata": {
      "needs_background": "light"
     },
     "output_type": "display_data"
    },
    {
     "data": {
      "text/plain": "(1.5, 8.5)"
     },
     "execution_count": 36,
     "metadata": {},
     "output_type": "execute_result"
    },
    {
     "data": {
      "text/plain": "<Figure size 432x288 with 1 Axes>",
      "image/png": "[encoded data removed]"
     },
     "metadata": {
      "needs_background": "light"
     },
     "output_type": "display_data"
    }
   ],
   "source": [
    "# use CH metric to choose best k value\n",
    "CH_list = []\n",
    "for k in range(2,9):\n",
    "    max_CH = 0.\n",
    "    for i in range(10):\n",
    "        centroids, cluster_assment = k_means(dataset, k, create_centroid=random_centroid)\n",
    "        current_CH = calinski_harabasz(dataset, cluster_assment, centroids)\n",
    "        if current_CH > max_CH:\n",
    "            max_CH = current_CH\n",
    "    CH_list.append(max_CH)\n",
    "plt.plot(range(2,9), CH_list)\n",
    "plt.xlabel('k')\n",
    "plt.ylabel('CH')\n",
    "plt.xlim(1.5,8.5)"
   ],
   "metadata": {
    "collapsed": false
   }
  },
  {
   "cell_type": "markdown",
   "source": [
    "# Iris"
   ],
   "metadata": {
    "collapsed": false
   }
  },
  {
   "cell_type": "code",
   "execution_count": 37,
   "outputs": [],
   "source": [
    "# use iris dataset\n",
    "dataset = pd.read_csv('Iris.txt', header=None)\n",
    "train_data = np.mat(dataset.iloc[:,0:4])\n",
    "label = dataset.iloc[:, 4]"
   ],
   "metadata": {
    "collapsed": false
   }
  },
  {
   "cell_type": "code",
   "execution_count": 38,
   "outputs": [
    {
     "name": "stderr",
     "output_type": "stream",
     "text": [
      "E:\\Coding\\Python\\lib\\site-packages\\numpy\\matrixlib\\defmatrix.py:445: RuntimeWarning: Mean of empty slice.\n",
      "  return N.ndarray.mean(self, axis, dtype, out, keepdims=True)._collapse(axis)\n",
      "E:\\Coding\\Python\\lib\\site-packages\\numpy\\core\\_methods.py:182: RuntimeWarning: invalid value encountered in divide\n",
      "  ret = um.true_divide(\n"
     ]
    },
    {
     "data": {
      "text/plain": "(1.5, 8.5)"
     },
     "execution_count": 18,
     "metadata": {},
     "output_type": "execute_result"
    },
    {
     "data": {
      "text/plain": "<Figure size 432x288 with 1 Axes>",
      "image/png": "[encoded data removed]"
     },
     "metadata": {
      "needs_background": "light"
     },
     "output_type": "display_data"
    },
    {
     "name": "stderr",
     "output_type": "stream",
     "text": [
      "E:\\Coding\\Python\\lib\\site-packages\\numpy\\matrixlib\\defmatrix.py:445: RuntimeWarning: Mean of empty slice.\n",
      "  return N.ndarray.mean(self, axis, dtype, out, keepdims=True)._collapse(axis)\n",
      "E:\\Coding\\Python\\lib\\site-packages\\numpy\\core\\_methods.py:182: RuntimeWarning: invalid value encountered in divide\n",
      "  ret = um.true_divide(\n"
     ]
    },
    {
     "data": {
      "text/plain": "(1.5, 8.5)"
     },
     "execution_count": 38,
     "metadata": {},
     "output_type": "execute_result"
    },
    {
     "data": {
      "text/plain": "<Figure size 432x288 with 1 Axes>",
      "image/png": "[encoded data removed]"
     },
     "metadata": {
      "needs_background": "light"
     },
     "output_type": "display_data"
    }
   ],
   "source": [
    "CH_list = []\n",
    "for k in range(2,9):\n",
    "    max_CH = 0.\n",
    "    for i in range(10):\n",
    "        centroids, cluster_assment = k_means(train_data, k, create_centroid=random_centroid)\n",
    "        current_CH = calinski_harabasz(train_data, cluster_assment, centroids)\n",
    "        if current_CH > max_CH:\n",
    "            max_CH = current_CH\n",
    "    CH_list.append(max_CH)\n",
    "plt.plot(range(2,9), CH_list)\n",
    "plt.xlabel('k')\n",
    "plt.ylabel('CH')\n",
    "plt.xlim(1.5,8.5)"
   ],
   "metadata": {
    "collapsed": false
   }
  },
  {
   "cell_type": "code",
   "execution_count": 39,
   "outputs": [],
   "source": [
    "# k-means\n",
    "k = 3\n",
    "centroids, cluster_assment = k_means(train_data, k, create_centroid=random_centroid)"
   ],
   "metadata": {
    "collapsed": false
   }
  },
  {
   "cell_type": "code",
   "execution_count": 40,
   "outputs": [
    {
     "name": "stdout",
     "output_type": "stream",
     "text": [
      "Accuracy = 88.67%, Cluster Entropy = 0.418\n",
      "Accuracy = 88.67%, Cluster Entropy = 0.418\n"
     ]
    }
   ],
   "source": [
    "cluster_list = []\n",
    "len_list = []\n",
    "for j in range(k):\n",
    "    cluster_list.append(label[np.nonzero(cluster_assment[:, 0].A == j)[0]].tolist())\n",
    "for j in range(k):\n",
    "    len_list.append(len(cluster_list[j]))\n",
    "list_dicts = []\n",
    "for list in cluster_list:\n",
    "    dict = {}\n",
    "    for item in list:\n",
    "        if item in dict.keys():\n",
    "            dict[item] += 1\n",
    "        else:\n",
    "            dict[item] = 1\n",
    "    list_dicts.append(dict)\n",
    "accuracy = caculate_cluster_accuarcy(list_dicts)\n",
    "entropy = calculate_cluster_entropy(list_dicts)\n",
    "print(\"Accuracy = {:.2%}, Cluster Entropy = {:.3}\".format(accuracy, entropy))"
   ],
   "metadata": {
    "collapsed": false
   }
  }
 ],
 "metadata": {
  "kernelspec": {
   "display_name": "Python 3",
   "language": "python",
   "name": "python3"
  },
  "language_info": {
   "codemirror_mode": {
    "name": "ipython",
    "version": 2
   },
   "file_extension": ".py",
   "mimetype": "text/x-python",
   "name": "python",
   "nbconvert_exporter": "python",
   "pygments_lexer": "ipython2",
   "version": "2.7.6"
  }
 },
 "nbformat": 4,
 "nbformat_minor": 0
}
